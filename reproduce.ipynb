{
 "cells": [
  {
   "cell_type": "markdown",
   "metadata": {},
   "source": [
    "# Artifact of Accessibility Issues in Ad-Driven Web Applications\n",
    "Artifact of the paper \"Accessibility Issues in Ad-Driven Web Applications\" from ICSE 2025.\n",
    "\n",
    "To access ChameleonCloud resources, you may need the account to log in to ChameleonCloud. You also need to have a project to allocate resources (e.g., node)."
   ]
  },
  {
   "cell_type": "code",
   "execution_count": 1,
   "metadata": {
    "tags": []
   },
   "outputs": [
    {
     "data": {
      "application/vnd.jupyter.widget-view+json": {
       "model_id": "c76a32d5cba847528982f3da590f66c7",
       "version_major": 2,
       "version_minor": 0
      },
      "text/plain": [
       "VBox(children=(Dropdown(description='Select Site', options=('CHI@TACC', 'CHI@UC', 'CHI@EVL', 'CHI@NCAR', 'CHI@…"
      ]
     },
     "metadata": {},
     "output_type": "display_data"
    },
    {
     "data": {
      "application/vnd.jupyter.widget-view+json": {
       "model_id": "f8327d0ccdb74f09b9952ad294c713c6",
       "version_major": 2,
       "version_minor": 0
      },
      "text/plain": [
       "VBox(children=(Dropdown(description='Select Project', options=('CHI-251412',), value='CHI-251412'), Output()))"
      ]
     },
     "metadata": {},
     "output_type": "display_data"
    }
   ],
   "source": [
    "from chi import context\n",
    "\n",
    "context.version = \"1.0\"\n",
    "\n",
    "context.choose_site(default=\"CHI@TACC\")\n",
    "context.choose_project()"
   ]
  },
  {
   "cell_type": "markdown",
   "metadata": {},
   "source": [
    "### Check available hardware"
   ]
  },
  {
   "cell_type": "code",
   "execution_count": 2,
   "metadata": {
    "tags": []
   },
   "outputs": [
    {
     "name": "stdout",
     "output_type": "stream",
     "text": [
      "There currently are 46 compute_cascadelake_r nodes ready to use\n"
     ]
    }
   ],
   "source": [
    "from chi import hardware\n",
    "\n",
    "node_type = \"compute_cascadelake_r\"\n",
    "available_nodes = hardware.get_nodes(node_type=node_type, filter_reserved=True)\n",
    "if available_nodes:\n",
    "    print(f\"There currently are {len(available_nodes)} {node_type} nodes ready to use\")\n",
    "else:\n",
    "    print(f\"All {node_type} nodes are in use! You could use next_free_timeslot to see how long you need to wait, or use the calendar.\")"
   ]
  },
  {
   "cell_type": "markdown",
   "metadata": {},
   "source": [
    "### Reserve node"
   ]
  },
  {
   "cell_type": "code",
   "execution_count": 3,
   "metadata": {
    "tags": []
   },
   "outputs": [
    {
     "name": "stdout",
     "output_type": "stream",
     "text": [
      "Waiting for lease to start... This can take up to 60 seconds\n"
     ]
    },
    {
     "data": {
      "application/vnd.jupyter.widget-view+json": {
       "model_id": "da99d93e190b4bcfbb14f65c593cd768",
       "version_major": 2,
       "version_minor": 0
      },
      "text/plain": [
       "HBox(children=(Label(value=''), IntProgress(value=0, bar_style='success')))"
      ]
     },
     "metadata": {},
     "output_type": "display_data"
    },
    {
     "name": "stdout",
     "output_type": "stream",
     "text": [
      "Lease radhofanazizi_gmail_com-power-management has reached status active\n"
     ]
    }
   ],
   "source": [
    "from chi import lease\n",
    "from datetime import timedelta\n",
    "import os\n",
    "\n",
    "my_lease = lease.Lease(f\"{os.getenv('USER')}-power-management\", duration=timedelta(hours=3))\n",
    "my_lease.add_node_reservation(nodes=[available_nodes[0]]) # or you could use node_type=node_type\n",
    "my_lease.add_fip_reservation(1) # include a floating ip\n",
    "my_lease.submit(idempotent=True)"
   ]
  },
  {
   "cell_type": "markdown",
   "metadata": {},
   "source": [
    "### Create a server on the node"
   ]
  },
  {
   "cell_type": "code",
   "execution_count": 4,
   "metadata": {
    "tags": []
   },
   "outputs": [
    {
     "name": "stdout",
     "output_type": "stream",
     "text": [
      "Waiting for server radhofanazizi_gmail_com-power-management's status to become ACTIVE. This typically takes 10 minutes, but can take up to 20 minutes.\n"
     ]
    },
    {
     "data": {
      "application/vnd.jupyter.widget-view+json": {
       "model_id": "6ca7d10a5a7048b88069cc068a903e3a",
       "version_major": 2,
       "version_minor": 0
      },
      "text/plain": [
       "HBox(children=(Label(value=''), IntProgress(value=0, bar_style='success')))"
      ]
     },
     "metadata": {},
     "output_type": "display_data"
    },
    {
     "name": "stdout",
     "output_type": "stream",
     "text": [
      "Server has moved to status ACTIVE\n"
     ]
    },
    {
     "data": {
      "text/html": [
       "<table style='border-collapse: collapse; width: 100%;'><tr style='background-color: #f2f2f2;'><th style='border: 1px solid #ddd; padding: 8px;'>Attribute</th><th style='border: 1px solid #ddd; padding: 8px;'>radhofanazizi_gmail_com-power-management</th></tr><tr><td style='border: 1px solid #ddd; padding: 8px;'>Id</td><td style='border: 1px solid #ddd; padding: 8px;'>c9bdf4bd-f0b4-4466-8b66-3b3dec476efb</td></tr><tr><td style='border: 1px solid #ddd; padding: 8px;'>Status</td><td style='border: 1px solid #ddd; padding: 8px;'>ACTIVE</td></tr><tr><td style='border: 1px solid #ddd; padding: 8px;'>Image Name</td><td style='border: 1px solid #ddd; padding: 8px;'>CC-Ubuntu22.04</td></tr><tr><td style='border: 1px solid #ddd; padding: 8px;'>Flavor Name</td><td style='border: 1px solid #ddd; padding: 8px;'>baremetal</td></tr><tr><td style='border: 1px solid #ddd; padding: 8px;'>Addresses</td><td style='border: 1px solid #ddd; padding: 8px;'><strong>sharednet1:</strong><br>&nbsp;&nbsp;IP: 10.52.0.55 (v4)<br>&nbsp;&nbsp;Type: fixed<br>&nbsp;&nbsp;MAC: bc:97:e1:78:f1:a0<br></td></tr><tr><td style='border: 1px solid #ddd; padding: 8px;'>Network Name</td><td style='border: 1px solid #ddd; padding: 8px;'>sharednet1</td></tr><tr><td style='border: 1px solid #ddd; padding: 8px;'>Created At</td><td style='border: 1px solid #ddd; padding: 8px;'>2025-03-26T09:24:19Z</td></tr><tr><td style='border: 1px solid #ddd; padding: 8px;'>Keypair</td><td style='border: 1px solid #ddd; padding: 8px;'>trovi-0e73ceb</td></tr><tr><td style='border: 1px solid #ddd; padding: 8px;'>Reservation Id</td><td style='border: 1px solid #ddd; padding: 8px;'>09bb381b-4b2d-4dea-b274-98e3248b2108</td></tr><tr><td style='border: 1px solid #ddd; padding: 8px;'>Host Id</td><td style='border: 1px solid #ddd; padding: 8px;'>b281b13a05d4a4d342f673906de4005142c2819a049809e34ac97306</td></tr><tr><td style='border: 1px solid #ddd; padding: 8px;'>Host Status</td><td style='border: 1px solid #ddd; padding: 8px;'>None</td></tr><tr><td style='border: 1px solid #ddd; padding: 8px;'>Hypervisor Hostname</td><td style='border: 1px solid #ddd; padding: 8px;'>021d8369-10e4-429c-9df4-cc4eb86216ee</td></tr><tr><td style='border: 1px solid #ddd; padding: 8px;'>Is Locked</td><td style='border: 1px solid #ddd; padding: 8px;'>False</td></tr></table>"
      ],
      "text/plain": [
       "<IPython.core.display.HTML object>"
      ]
     },
     "metadata": {},
     "output_type": "display_data"
    }
   ],
   "source": [
    "from chi import server\n",
    "\n",
    "my_server = server.Server(\n",
    "    f\"{os.getenv('USER')}-power-management\",\n",
    "    reservation_id=my_lease.node_reservations[0][\"id\"],\n",
    "    image_name=\"CC-Ubuntu22.04\", # or use image_name\n",
    ")\n",
    "my_server.submit(idempotent=True)"
   ]
  },
  {
   "cell_type": "markdown",
   "metadata": {},
   "source": [
    "### Configure networking on the node"
   ]
  },
  {
   "cell_type": "code",
   "execution_count": 5,
   "metadata": {
    "tags": []
   },
   "outputs": [
    {
     "name": "stdout",
     "output_type": "stream",
     "text": [
      "Checking connectivity to 129.114.109.67 port 22.\n"
     ]
    },
    {
     "data": {
      "application/vnd.jupyter.widget-view+json": {
       "model_id": "4d7a4e8c57904dd28fd95a5a3bd04a62",
       "version_major": 2,
       "version_minor": 0
      },
      "text/plain": [
       "HBox(children=(Label(value=''), IntProgress(value=0, bar_style='success')))"
      ]
     },
     "metadata": {},
     "output_type": "display_data"
    },
    {
     "name": "stdout",
     "output_type": "stream",
     "text": [
      "Connection successful\n"
     ]
    }
   ],
   "source": [
    "fip = my_lease.get_reserved_floating_ips()[0]\n",
    "my_server.associate_floating_ip(fip)\n",
    "my_server.check_connectivity(host=fip)"
   ]
  },
  {
   "cell_type": "markdown",
   "metadata": {},
   "source": [
    "## Run Experiment\n",
    "\n",
    "Now, we can finally run the experiment. First we need to clone the github repo first and then run the reprduce.sh script which contain the instructions from README.md\n",
    "packaged into a bash file"
   ]
  },
  {
   "cell_type": "code",
   "execution_count": 36,
   "metadata": {
    "tags": []
   },
   "outputs": [
    {
     "name": "stderr",
     "output_type": "stream",
     "text": [
      "Cloning into 'Web-Ads-Accessibility'...\n"
     ]
    },
    {
     "data": {
      "text/plain": [
       "<Result cmd='rm -rf Web-Ads-Accessibility && git clone https://github.com/radhofan/Web-Ads-Accessibility.git' exited=0>"
      ]
     },
     "execution_count": 36,
     "metadata": {},
     "output_type": "execute_result"
    }
   ],
   "source": [
    "my_server.execute(\"rm -rf Web-Ads-Accessibility && git clone https://github.com/radhofan/Web-Ads-Accessibility.git\")"
   ]
  },
  {
   "cell_type": "code",
   "execution_count": 22,
   "metadata": {
    "tags": []
   },
   "outputs": [
    {
     "name": "stdout",
     "output_type": "stream",
     "text": [
      "Installing missing dependencies...\n",
      "Hit:1 http://security.ubuntu.com/ubuntu jammy-security InRelease\n",
      "Get:2 http://nova.clouds.archive.ubuntu.com/ubuntu jammy InRelease [270 kB]\n",
      "Get:3 http://nova.clouds.archive.ubuntu.com/ubuntu jammy-updates InRelease [128 kB]\n",
      "Get:4 http://nova.clouds.archive.ubuntu.com/ubuntu jammy-backports InRelease [127 kB]\n",
      "Fetched 525 kB in 1s (981 kB/s)\n",
      "Reading package lists...\n",
      "Adding component(s) 'universe' to all repositories.\n",
      "Hit:1 http://security.ubuntu.com/ubuntu jammy-security InRelease\n",
      "Get:2 http://nova.clouds.archive.ubuntu.com/ubuntu jammy InRelease [270 kB]\n",
      "Hit:3 http://nova.clouds.archive.ubuntu.com/ubuntu jammy-updates InRelease\n",
      "Hit:4 http://nova.clouds.archive.ubuntu.com/ubuntu jammy-backports InRelease\n",
      "Fetched 270 kB in 1s (264 kB/s)\n",
      "Reading package lists...\n",
      "Adding component(s) 'multiverse' to all repositories.\n",
      "Get:1 http://nova.clouds.archive.ubuntu.com/ubuntu jammy InRelease [270 kB]\n",
      "Hit:2 http://security.ubuntu.com/ubuntu jammy-security InRelease\n",
      "Hit:3 http://nova.clouds.archive.ubuntu.com/ubuntu jammy-updates InRelease\n",
      "Hit:4 http://nova.clouds.archive.ubuntu.com/ubuntu jammy-backports InRelease\n",
      "Fetched 270 kB in 1s (263 kB/s)\n",
      "Reading package lists...\n",
      "Removing existing Chrome and ChromeDriver installations...\n",
      "Creating necessary directories...\n",
      "Downloading Chrome version 134.0.6998.165...\n",
      "Extracting Chrome...\n",
      "Archive:  chrome-linux64.zip\n",
      "  inflating: /usr/local/chrome/chrome-linux64/ABOUT  \n",
      "  inflating: /usr/local/chrome/chrome-linux64/MEIPreload/manifest.json  \n",
      "  inflating: /usr/local/chrome/chrome-linux64/MEIPreload/preloaded_data.pb  \n",
      "  inflating: /usr/local/chrome/chrome-linux64/PrivacySandboxAttestationsPreloaded/manifest.json  \n",
      "  inflating: /usr/local/chrome/chrome-linux64/PrivacySandboxAttestationsPreloaded/privacy-sandbox-attestations.dat  \n",
      "  inflating: /usr/local/chrome/chrome-linux64/WidevineCdm/LICENSE  \n",
      "  inflating: /usr/local/chrome/chrome-linux64/WidevineCdm/_platform_specific/linux_x64/libwidevinecdm.so  \n",
      "  inflating: /usr/local/chrome/chrome-linux64/WidevineCdm/manifest.json  \n",
      "  inflating: /usr/local/chrome/chrome-linux64/chrome  \n",
      "  inflating: /usr/local/chrome/chrome-linux64/chrome-wrapper  \n",
      "  inflating: /usr/local/chrome/chrome-linux64/chrome_100_percent.pak  \n",
      "  inflating: /usr/local/chrome/chrome-linux64/chrome_200_percent.pak  \n",
      "  inflating: /usr/local/chrome/chrome-linux64/chrome_crashpad_handler  \n",
      "  inflating: /usr/local/chrome/chrome-linux64/chrome_sandbox  \n",
      "  inflating: /usr/local/chrome/chrome-linux64/deb.deps  \n",
      "  inflating: /usr/local/chrome/chrome-linux64/icudtl.dat  \n",
      "  inflating: /usr/local/chrome/chrome-linux64/libEGL.so  \n",
      "  inflating: /usr/local/chrome/chrome-linux64/libGLESv2.so  \n",
      "  inflating: /usr/local/chrome/chrome-linux64/libvk_swiftshader.so  \n",
      "  inflating: /usr/local/chrome/chrome-linux64/libvulkan.so.1  \n",
      "  inflating: /usr/local/chrome/chrome-linux64/locales/af.pak  \n",
      "  inflating: /usr/local/chrome/chrome-linux64/locales/am.pak  \n",
      "  inflating: /usr/local/chrome/chrome-linux64/locales/ar.pak  \n",
      "  inflating: /usr/local/chrome/chrome-linux64/locales/bg.pak  \n",
      "  inflating: /usr/local/chrome/chrome-linux64/locales/bn.pak  \n",
      "  inflating: /usr/local/chrome/chrome-linux64/locales/ca.pak  \n",
      "  inflating: /usr/local/chrome/chrome-linux64/locales/cs.pak  \n",
      "  inflating: /usr/local/chrome/chrome-linux64/locales/da.pak  \n",
      "  inflating: /usr/local/chrome/chrome-linux64/locales/de.pak  \n",
      "  inflating: /usr/local/chrome/chrome-linux64/locales/el.pak  \n",
      "  inflating: /usr/local/chrome/chrome-linux64/locales/en-GB.pak  \n",
      "  inflating: /usr/local/chrome/chrome-linux64/locales/en-US.pak  \n",
      "  inflating: /usr/local/chrome/chrome-linux64/locales/es-419.pak  \n",
      "  inflating: /usr/local/chrome/chrome-linux64/locales/es.pak  \n",
      "  inflating: /usr/local/chrome/chrome-linux64/locales/et.pak  \n",
      "  inflating: /usr/local/chrome/chrome-linux64/locales/fa.pak  \n",
      "  inflating: /usr/local/chrome/chrome-linux64/locales/fi.pak  \n",
      "  inflating: /usr/local/chrome/chrome-linux64/locales/fil.pak  \n",
      "  inflating: /usr/local/chrome/chrome-linux64/locales/fr.pak  \n",
      "  inflating: /usr/local/chrome/chrome-linux64/locales/gu.pak  \n",
      "  inflating: /usr/local/chrome/chrome-linux64/locales/he.pak  \n",
      "  inflating: /usr/local/chrome/chrome-linux64/locales/hi.pak  \n",
      "  inflating: /usr/local/chrome/chrome-linux64/locales/hr.pak  \n",
      "  inflating: /usr/local/chrome/chrome-linux64/locales/hu.pak  \n",
      "  inflating: /usr/local/chrome/chrome-linux64/locales/id.pak  \n",
      "  inflating: /usr/local/chrome/chrome-linux64/locales/it.pak  \n",
      "  inflating: /usr/local/chrome/chrome-linux64/locales/ja.pak  \n",
      "  inflating: /usr/local/chrome/chrome-linux64/locales/kn.pak  \n",
      "  inflating: /usr/local/chrome/chrome-linux64/locales/ko.pak  \n",
      "  inflating: /usr/local/chrome/chrome-linux64/locales/lt.pak  \n",
      "  inflating: /usr/local/chrome/chrome-linux64/locales/lv.pak  \n",
      "  inflating: /usr/local/chrome/chrome-linux64/locales/ml.pak  \n",
      "  inflating: /usr/local/chrome/chrome-linux64/locales/mr.pak  \n",
      "  inflating: /usr/local/chrome/chrome-linux64/locales/ms.pak  \n",
      "  inflating: /usr/local/chrome/chrome-linux64/locales/nb.pak  \n",
      "  inflating: /usr/local/chrome/chrome-linux64/locales/nl.pak  \n",
      "  inflating: /usr/local/chrome/chrome-linux64/locales/pl.pak  \n",
      "  inflating: /usr/local/chrome/chrome-linux64/locales/pt-BR.pak  \n",
      "  inflating: /usr/local/chrome/chrome-linux64/locales/pt-PT.pak  \n",
      "  inflating: /usr/local/chrome/chrome-linux64/locales/ro.pak  \n",
      "  inflating: /usr/local/chrome/chrome-linux64/locales/ru.pak  \n",
      "  inflating: /usr/local/chrome/chrome-linux64/locales/sk.pak  \n",
      "  inflating: /usr/local/chrome/chrome-linux64/locales/sl.pak  \n",
      "  inflating: /usr/local/chrome/chrome-linux64/locales/sr.pak  \n",
      "  inflating: /usr/local/chrome/chrome-linux64/locales/sv.pak  \n",
      "  inflating: /usr/local/chrome/chrome-linux64/locales/sw.pak  \n",
      "  inflating: /usr/local/chrome/chrome-linux64/locales/ta.pak  \n",
      "  inflating: /usr/local/chrome/chrome-linux64/locales/te.pak  \n",
      "  inflating: /usr/local/chrome/chrome-linux64/locales/th.pak  \n",
      "  inflating: /usr/local/chrome/chrome-linux64/locales/tr.pak  \n",
      "  inflating: /usr/local/chrome/chrome-linux64/locales/uk.pak  \n",
      "  inflating: /usr/local/chrome/chrome-linux64/locales/ur.pak  \n",
      "  inflating: /usr/local/chrome/chrome-linux64/locales/vi.pak  \n",
      "  inflating: /usr/local/chrome/chrome-linux64/locales/zh-CN.pak  \n",
      "  inflating: /usr/local/chrome/chrome-linux64/locales/zh-TW.pak  \n",
      " extracting: /usr/local/chrome/chrome-linux64/product_logo_48.png  \n",
      "  inflating: /usr/local/chrome/chrome-linux64/resources.pak  \n",
      "  inflating: /usr/local/chrome/chrome-linux64/rpm.deps  \n",
      "  inflating: /usr/local/chrome/chrome-linux64/v8_context_snapshot.bin  \n",
      "  inflating: /usr/local/chrome/chrome-linux64/vk_swiftshader_icd.json  \n",
      "  inflating: /usr/local/chrome/chrome-linux64/xdg-mime  \n",
      "  inflating: /usr/local/chrome/chrome-linux64/xdg-settings  \n",
      "   creating: /usr/local/chrome/chrome-linux64/resources/\n",
      "   creating: /usr/local/chrome/chrome-linux64/resources/accessibility/\n",
      "   creating: /usr/local/chrome/chrome-linux64/resources/accessibility/reading_mode_gdocs_helper/\n",
      "  inflating: /usr/local/chrome/chrome-linux64/resources/accessibility/reading_mode_gdocs_helper/content.js  \n",
      "  inflating: /usr/local/chrome/chrome-linux64/resources/accessibility/reading_mode_gdocs_helper/gdocs_script.js  \n",
      "  inflating: /usr/local/chrome/chrome-linux64/resources/accessibility/reading_mode_gdocs_helper_manifest.json  \n",
      "   creating: /usr/local/chrome/chrome-linux64/resources/inspector_overlay/\n",
      "  inflating: /usr/local/chrome/chrome-linux64/resources/inspector_overlay/inspector_overlay_resources.grd  \n",
      "  inflating: /usr/local/chrome/chrome-linux64/resources/inspector_overlay/main.js  \n",
      "   creating: /usr/local/chrome/chrome-linux64/hyphen-data/\n",
      "  inflating: /usr/local/chrome/chrome-linux64/hyphen-data/hyph-la.hyb  \n",
      "  inflating: /usr/local/chrome/chrome-linux64/hyphen-data/hyph-hi.hyb  \n",
      "  inflating: /usr/local/chrome/chrome-linux64/hyphen-data/hyph-da.hyb  \n",
      "  inflating: /usr/local/chrome/chrome-linux64/hyphen-data/hyph-ru.hyb  \n",
      "  inflating: /usr/local/chrome/chrome-linux64/hyphen-data/hyph-sk.hyb  \n",
      "  inflating: /usr/local/chrome/chrome-linux64/hyphen-data/hyph-gl.hyb  \n",
      "  inflating: /usr/local/chrome/chrome-linux64/hyphen-data/hyph-lt.hyb  \n",
      "  inflating: /usr/local/chrome/chrome-linux64/hyphen-data/hyph-be.hyb  \n",
      "  inflating: /usr/local/chrome/chrome-linux64/hyphen-data/hyph-af.hyb  \n",
      "  inflating: /usr/local/chrome/chrome-linux64/hyphen-data/hyph-pt.hyb  \n",
      "  inflating: /usr/local/chrome/chrome-linux64/hyphen-data/hyph-tk.hyb  \n",
      "  inflating: /usr/local/chrome/chrome-linux64/hyphen-data/hyph-eu.hyb  \n",
      "  inflating: /usr/local/chrome/chrome-linux64/hyphen-data/hyph-cy.hyb  \n",
      "  inflating: /usr/local/chrome/chrome-linux64/hyphen-data/hyph-de-ch-1901.hyb  \n",
      "  inflating: /usr/local/chrome/chrome-linux64/hyphen-data/hyph-ml.hyb  \n",
      "  inflating: /usr/local/chrome/chrome-linux64/hyphen-data/hyph-mr.hyb  \n",
      "  inflating: /usr/local/chrome/chrome-linux64/hyphen-data/hyph-lv.hyb  \n",
      "  inflating: /usr/local/chrome/chrome-linux64/hyphen-data/hyph-nb.hyb  \n",
      "  inflating: /usr/local/chrome/chrome-linux64/hyphen-data/hyph-uk.hyb  \n",
      "  inflating: /usr/local/chrome/chrome-linux64/hyphen-data/hyph-de-1901.hyb  \n",
      "  inflating: /usr/local/chrome/chrome-linux64/hyphen-data/hyph-en-us.hyb  \n",
      "  inflating: /usr/local/chrome/chrome-linux64/hyphen-data/hyph-te.hyb  \n",
      "  inflating: /usr/local/chrome/chrome-linux64/hyphen-data/hyph-mul-ethi.hyb  \n",
      "  inflating: /usr/local/chrome/chrome-linux64/hyphen-data/hyph-or.hyb  \n",
      "  inflating: /usr/local/chrome/chrome-linux64/hyphen-data/hyph-hr.hyb  \n",
      "  inflating: /usr/local/chrome/chrome-linux64/hyphen-data/hyph-cu.hyb  \n",
      "  inflating: /usr/local/chrome/chrome-linux64/hyphen-data/hyph-cs.hyb  \n",
      "  inflating: /usr/local/chrome/chrome-linux64/hyphen-data/hyph-de-1996.hyb  \n",
      "  inflating: /usr/local/chrome/chrome-linux64/hyphen-data/hyph-as.hyb  \n",
      "  inflating: /usr/local/chrome/chrome-linux64/hyphen-data/hyph-kn.hyb  \n",
      "  inflating: /usr/local/chrome/chrome-linux64/hyphen-data/hyph-sv.hyb  \n",
      "  inflating: /usr/local/chrome/chrome-linux64/hyphen-data/hyph-bn.hyb  \n",
      "  inflating: /usr/local/chrome/chrome-linux64/hyphen-data/hyph-en-gb.hyb  \n",
      "  inflating: /usr/local/chrome/chrome-linux64/hyphen-data/hyph-sq.hyb  \n",
      "  inflating: /usr/local/chrome/chrome-linux64/hyphen-data/hyph-it.hyb  \n",
      "  inflating: /usr/local/chrome/chrome-linux64/hyphen-data/hyph-hy.hyb  \n",
      "  inflating: /usr/local/chrome/chrome-linux64/hyphen-data/hyph-gu.hyb  \n",
      "  inflating: /usr/local/chrome/chrome-linux64/hyphen-data/hyph-fr.hyb  \n",
      "  inflating: /usr/local/chrome/chrome-linux64/hyphen-data/hyph-pa.hyb  \n",
      "  inflating: /usr/local/chrome/chrome-linux64/hyphen-data/hyph-es.hyb  \n",
      "  inflating: /usr/local/chrome/chrome-linux64/hyphen-data/hyph-sl.hyb  \n",
      "  inflating: /usr/local/chrome/chrome-linux64/hyphen-data/hyph-nn.hyb  \n",
      "  inflating: /usr/local/chrome/chrome-linux64/hyphen-data/hyph-ka.hyb  \n",
      "  inflating: /usr/local/chrome/chrome-linux64/hyphen-data/hyph-et.hyb  \n",
      "  inflating: /usr/local/chrome/chrome-linux64/hyphen-data/hyph-mn-cyrl.hyb  \n",
      "  inflating: /usr/local/chrome/chrome-linux64/hyphen-data/hyph-ga.hyb  \n",
      "  inflating: /usr/local/chrome/chrome-linux64/hyphen-data/manifest.json  \n",
      "  inflating: /usr/local/chrome/chrome-linux64/hyphen-data/hyph-nl.hyb  \n",
      "  inflating: /usr/local/chrome/chrome-linux64/hyphen-data/hyph-el.hyb  \n",
      "  inflating: /usr/local/chrome/chrome-linux64/hyphen-data/hyph-hu.hyb  \n",
      "  inflating: /usr/local/chrome/chrome-linux64/hyphen-data/hyph-bg.hyb  \n",
      "  inflating: /usr/local/chrome/chrome-linux64/hyphen-data/hyph-und-ethi.hyb  \n",
      "  inflating: /usr/local/chrome/chrome-linux64/hyphen-data/hyph-ta.hyb  \n",
      "Downloading ChromeDriver version 134.0.6998.165...\n",
      "Extracting ChromeDriver...\n",
      "Archive:  chromedriver-linux64.zip\n",
      "  inflating: /usr/local/chromedriver/chromedriver-linux64/LICENSE.chromedriver  \n",
      "  inflating: /usr/local/chromedriver/chromedriver-linux64/THIRD_PARTY_NOTICES.chromedriver  \n",
      "  inflating: /usr/local/chromedriver/chromedriver-linux64/chromedriver  \n",
      "Verifying installations...\n",
      "Chrome path: /usr/bin/google-chrome\n",
      "Chrome version: Google Chrome for Testing 134.0.6998.165 \n",
      "ChromeDriver path: /usr/local/bin/chromedriver\n",
      "ChromeDriver 134.0.6998.165 (fd886e2cb29dd984c13deec032832dee68d8abe3-refs/branch-heads/6998@{#2122})\n",
      "Cleaning up temporary files...\n",
      "Installation completed successfully!\n"
     ]
    },
    {
     "data": {
      "text/plain": [
       "<Result cmd='\\n# 1. Install missing dependencies for Chrome\\necho \"Installing missing dependencies...\"\\n\\nsudo add-apt-repository universe\\nsudo add-apt-repository multiverse\\nsudo apt-get update\\n\\nsudo apt update >/dev/null 2>&1\\nsudo apt-get install -y libatk1.0-0 libatk-bridge2.0-0 libgdk-pixbuf2.0-0 libgtk-3-0 libx11-6 libxcomposite1 libxdamage1 libxext6 libxfixes3 libxi6 libxrandr2 libxrender1 libxtst6 libnss3 libnspr4 libgconf-2-4 >/dev/null 2>&1\\n# sudo apt install -y wget unzip libatk-1.0-0 libatk-bridge2.0-0 libgtk-3-0 libgbm1 libnss3 libxss1 libasound2 >/dev/null 2>&1\\n\\n# Verify installation of critical libraries\\nif ! dpkg -l | grep -q libatk1.0-0; then\\n    echo \"Error: libatk-1.0-0 is not installed. Reinstalling...\"\\n    sudo apt install -y libatk1.0-0\\nfi\\n\\n# Update dynamic linker cache\\nsudo ldconfig\\n\\n# 2. Remove existing Chrome and ChromeDriver installations (forceful)\\necho \"Removing existing Chrome and ChromeDriver installations...\"\\nsudo apt purge -y google-chrome* chromium* >/dev/null 2>&1\\nsudo rm -rf /usr/bin/google-chrome /usr/local/bin/chromedriver /opt/google/chrome /usr/local/chrome /usr/local/chromedriver >/dev/null 2>&1\\n\\n# 3. Create necessary directories\\necho \"Creating necessary directories...\"\\nsudo mkdir -p /usr/local/chrome /usr/local/chromedriver\\nsudo chmod -R 755 /usr/local/chrome /usr/local/chromedriver\\n\\n# 4. Install Chrome (with download verification)\\nCHROME_VERSION=\"134.0.6998.165\"\\nCHROME_URL=\"https://storage.googleapis.com/chrome-for-testing-public/${CHROME_VERSION}/linux64/chrome-linux64.zip\"\\n\\necho \"Downloading Chrome version ${CHROME_VERSION}...\"\\nif ! wget -q \"$CHROME_URL\"; then\\n    echo \"Failed to download Chrome from $CHROME_URL\" >&2\\n    exit 1\\nfi\\n\\necho \"Extracting Chrome...\"\\nsudo unzip -o chrome-linux64.zip -d /usr/local/chrome/\\nsudo chmod +x /usr/local/chrome/chrome-linux64/chrome\\nsudo ln -sf /usr/local/chrome/chrome-linux64/chrome /usr/bin/google-chrome\\n\\n# 5. Install ChromeDriver (with download verification)\\nCHROMEDRIVER_URL=\"https://storage.googleapis.com/chrome-for-testing-public/${CHROME_VERSION}/linux64/chromedriver-linux64.zip\"\\n\\necho \"Downloading ChromeDriver version ${CHROME_VERSION}...\"\\nif ! wget -q \"$CHROMEDRIVER_URL\"; then\\n    echo \"Failed to download ChromeDriver from $CHROMEDRIVER_URL\" >&2\\n    exit 1\\nfi\\n\\necho \"Extracting ChromeDriver...\"\\nsudo unzip -o chromedriver-linux64.zip -d /usr/local/chromedriver/\\n\\n# Verify that the chromedriver binary exists\\nif [ ! -f \"/usr/local/chromedriver/chromedriver-linux64/chromedriver\" ]; then\\n    echo \"ChromeDriver binary not found after extraction!\" >&2\\n    exit 1\\nfi\\n\\n# Move the binary to the correct location\\nsudo mv /usr/local/chromedriver/chromedriver-linux64/chromedriver /usr/local/chromedriver/\\nsudo chmod +x /usr/local/chromedriver/chromedriver\\nsudo ln -sf /usr/local/chromedriver/chromedriver /usr/local/bin/chromedriver\\n\\n# 6. Verify installations\\necho \"Verifying installations...\"\\necho \"Chrome path: $(which google-chrome)\"\\necho \"Chrome version: $(google-chrome --version)\"\\necho \"ChromeDriver path: $(which chromedriver)\"\\nchromedriver --version\\n\\n# 7. Cleanup temporary files\\necho \"Cleaning up temporary files...\"\\nrm -f chrome-linux64.zip chromedriver-linux64.zip\\n\\necho \"Installation completed successfully!\"\\n' exited=0>"
      ]
     },
     "execution_count": 22,
     "metadata": {},
     "output_type": "execute_result"
    }
   ],
   "source": [
    "my_server.execute(\"\"\"\n",
    "# 1. Install missing dependencies for Chrome\n",
    "echo \"Installing missing dependencies...\"\n",
    "\n",
    "sudo add-apt-repository universe\n",
    "sudo add-apt-repository multiverse\n",
    "sudo apt-get update\n",
    "\n",
    "sudo apt update >/dev/null 2>&1\n",
    "sudo apt-get install -y libatk1.0-0 libatk-bridge2.0-0 libgdk-pixbuf2.0-0 libgtk-3-0 libx11-6 libxcomposite1 libxdamage1 libxext6 libxfixes3 libxi6 libxrandr2 libxrender1 libxtst6 libnss3 libnspr4 libgconf-2-4 >/dev/null 2>&1\n",
    "# sudo apt install -y wget unzip libatk-1.0-0 libatk-bridge2.0-0 libgtk-3-0 libgbm1 libnss3 libxss1 libasound2 >/dev/null 2>&1\n",
    "\n",
    "# Verify installation of critical libraries\n",
    "if ! dpkg -l | grep -q libatk1.0-0; then\n",
    "    echo \"Error: libatk-1.0-0 is not installed. Reinstalling...\"\n",
    "    sudo apt install -y libatk1.0-0\n",
    "fi\n",
    "\n",
    "# Update dynamic linker cache\n",
    "sudo ldconfig\n",
    "\n",
    "# 2. Remove existing Chrome and ChromeDriver installations (forceful)\n",
    "echo \"Removing existing Chrome and ChromeDriver installations...\"\n",
    "sudo apt purge -y google-chrome* chromium* >/dev/null 2>&1\n",
    "sudo rm -rf /usr/bin/google-chrome /usr/local/bin/chromedriver /opt/google/chrome /usr/local/chrome /usr/local/chromedriver >/dev/null 2>&1\n",
    "\n",
    "# 3. Create necessary directories\n",
    "echo \"Creating necessary directories...\"\n",
    "sudo mkdir -p /usr/local/chrome /usr/local/chromedriver\n",
    "sudo chmod -R 755 /usr/local/chrome /usr/local/chromedriver\n",
    "\n",
    "# 4. Install Chrome (with download verification)\n",
    "CHROME_VERSION=\"134.0.6998.165\"\n",
    "CHROME_URL=\"https://storage.googleapis.com/chrome-for-testing-public/${CHROME_VERSION}/linux64/chrome-linux64.zip\"\n",
    "\n",
    "echo \"Downloading Chrome version ${CHROME_VERSION}...\"\n",
    "if ! wget -q \"$CHROME_URL\"; then\n",
    "    echo \"Failed to download Chrome from $CHROME_URL\" >&2\n",
    "    exit 1\n",
    "fi\n",
    "\n",
    "echo \"Extracting Chrome...\"\n",
    "sudo unzip -o chrome-linux64.zip -d /usr/local/chrome/\n",
    "sudo chmod +x /usr/local/chrome/chrome-linux64/chrome\n",
    "sudo ln -sf /usr/local/chrome/chrome-linux64/chrome /usr/bin/google-chrome\n",
    "\n",
    "# 5. Install ChromeDriver (with download verification)\n",
    "CHROMEDRIVER_URL=\"https://storage.googleapis.com/chrome-for-testing-public/${CHROME_VERSION}/linux64/chromedriver-linux64.zip\"\n",
    "\n",
    "echo \"Downloading ChromeDriver version ${CHROME_VERSION}...\"\n",
    "if ! wget -q \"$CHROMEDRIVER_URL\"; then\n",
    "    echo \"Failed to download ChromeDriver from $CHROMEDRIVER_URL\" >&2\n",
    "    exit 1\n",
    "fi\n",
    "\n",
    "echo \"Extracting ChromeDriver...\"\n",
    "sudo unzip -o chromedriver-linux64.zip -d /usr/local/chromedriver/\n",
    "\n",
    "# Verify that the chromedriver binary exists\n",
    "if [ ! -f \"/usr/local/chromedriver/chromedriver-linux64/chromedriver\" ]; then\n",
    "    echo \"ChromeDriver binary not found after extraction!\" >&2\n",
    "    exit 1\n",
    "fi\n",
    "\n",
    "# Move the binary to the correct location\n",
    "sudo mv /usr/local/chromedriver/chromedriver-linux64/chromedriver /usr/local/chromedriver/\n",
    "sudo chmod +x /usr/local/chromedriver/chromedriver\n",
    "sudo ln -sf /usr/local/chromedriver/chromedriver /usr/local/bin/chromedriver\n",
    "\n",
    "# 6. Verify installations\n",
    "echo \"Verifying installations...\"\n",
    "echo \"Chrome path: $(which google-chrome)\"\n",
    "echo \"Chrome version: $(google-chrome --version)\"\n",
    "echo \"ChromeDriver path: $(which chromedriver)\"\n",
    "chromedriver --version\n",
    "\n",
    "# 7. Cleanup temporary files\n",
    "echo \"Cleaning up temporary files...\"\n",
    "rm -f chrome-linux64.zip chromedriver-linux64.zip\n",
    "\n",
    "echo \"Installation completed successfully!\"\n",
    "\"\"\")"
   ]
  },
  {
   "cell_type": "code",
   "execution_count": 8,
   "metadata": {
    "tags": []
   },
   "outputs": [
    {
     "name": "stderr",
     "output_type": "stream",
     "text": [
      "  % Total    % Received % Xferd  Average Speed   Time    Time     Time  Current\n",
      "                                 Dload  Upload   Total   Spent    Left  Speed\n",
      "  0     0    0     0    0     0      0      0 --:--:-- --:--:-- --:--:--     0-- --:--:--     0\n",
      "100  100M    0  100M    0     0  8730k      0 --:--:--  0:00:11 --:--:-- 8019M.8M      0 --:--:--  0:00:02 --:--:-- 12.9M1M      0 --:--:--  0:00:03 --:--:-- 11.3M9806k      0 --:--:--  0:00:04 --:--:-- 10.3M.6M    0     0  9470k      0 --:--:--  0:00:05 --:--:--  9.8M   0 62.4M    0     0  9229k      0 --:--:--  0:00:06 --:--:-- 7932k    0 70.1M    0     0  9080k      0 --:--:--  0:00:07 --:--:-- 7898k   0 77.6M    0     0  8895k      0 --:--:--  0:00:08 --:--:-- 7744k  0 84.9M    0     0  8690k      0 --:--:--  0:00:10 --:--:-- 7583k0:10 --:--:-- 7487k8k\n"
     ]
    },
    {
     "data": {
      "text/plain": [
       "<Result cmd='\\ncurl -L -o IBM-Equal-Access-Accessibility-Checker.zip      https://github.com/IBMa/equal-access/archive/refs/tags/4.0.2.zip\\n' exited=0>"
      ]
     },
     "execution_count": 8,
     "metadata": {},
     "output_type": "execute_result"
    }
   ],
   "source": [
    "my_server.execute(\"\"\"\n",
    "curl -L -o IBM-Equal-Access-Accessibility-Checker.zip \\\n",
    "     https://github.com/IBMa/equal-access/archive/refs/tags/4.0.2.zip\n",
    "\"\"\")"
   ]
  },
  {
   "cell_type": "code",
   "execution_count": 35,
   "metadata": {
    "tags": []
   },
   "outputs": [
    {
     "name": "stderr",
     "output_type": "stream",
     "text": [
      "  % Total    % Received % Xferd  Average Speed   Time    Time     Time  Current\n",
      "                                 Dload  Upload   Total   Spent    Left  Speed\n",
      "  0     0    0     0    0     0      0      0 --:--:-- --:--:-- --:--:--     0   0    0     0      0      0 --:--:-- --:--:-- --:--:--     0--     0\n",
      "100 4139k    0 4139k    0     0  4795k      0 --:--:-- --:--:-- --:--:-- 4795k\n"
     ]
    },
    {
     "data": {
      "text/plain": [
       "<Result cmd='\\ncurl -L -o uBlock-Origin.zip      https://github.com/gorhill/uBlock/archive/refs/tags/1.50.0.zip\\n' exited=0>"
      ]
     },
     "execution_count": 35,
     "metadata": {},
     "output_type": "execute_result"
    }
   ],
   "source": [
    "my_server.execute(\"\"\"\n",
    "curl -L -o uBlock-Origin.zip \\\n",
    "     https://github.com/gorhill/uBlock/archive/refs/tags/1.50.0.zip\n",
    "\"\"\")"
   ]
  },
  {
   "cell_type": "code",
   "execution_count": 37,
   "metadata": {
    "tags": []
   },
   "outputs": [
    {
     "name": "stderr",
     "output_type": "stream",
     "text": [
      "ERROR: File or directory already exists: '/home/cc/miniconda'\n",
      "If you want to update an existing installation, use the -u option.\n"
     ]
    },
    {
     "name": "stdout",
     "output_type": "stream",
     "text": [
      "Channels:\n",
      " - conda-forge\n",
      " - defaults\n",
      "Platform: linux-64\n",
      "Collecting package metadata (repodata.json): ...working... done\n",
      "Solving environment: ...working... done\n",
      "\n",
      "# All requested packages already installed.\n",
      "\n",
      "Running `shell init`, which:\n",
      " - modifies RC file: \"/home/cc/.bashrc\"\n",
      " - generates config for root prefix: \u001b[1m\"/home/cc/miniconda\"\u001b[0m\n",
      " - sets mamba executable to: \u001b[1m\"/home/cc/miniconda/bin/mamba\"\u001b[0m\n",
      "The following has been added in your \"/home/cc/.bashrc\" file\n",
      "\n",
      "# >>> mamba initialize >>>\n",
      "# !! Contents within this block are managed by 'mamba shell init' !!\n",
      "export MAMBA_EXE='/home/cc/miniconda/bin/mamba';\n",
      "export MAMBA_ROOT_PREFIX='/home/cc/miniconda';\n",
      "__mamba_setup=\"$(\"$MAMBA_EXE\" shell hook --shell bash --root-prefix \"$MAMBA_ROOT_PREFIX\" 2> /dev/null)\"\n",
      "if [ $? -eq 0 ]; then\n",
      "    eval \"$__mamba_setup\"\n",
      "else\n",
      "    alias mamba=\"$MAMBA_EXE\"  # Fallback on help from mamba activate\n",
      "fi\n",
      "unset __mamba_setup\n",
      "# <<< mamba initialize <<<\n",
      "\n",
      "Empty environment created at prefix: /home/cc/miniconda/envs/icse\n",
      "Requirement already satisfied: scipy in ./miniconda/lib/python3.12/site-packages (from -r Web-Ads-Accessibility/src/requirements.txt (line 1)) (1.15.2)\n",
      "Requirement already satisfied: selenium in ./miniconda/lib/python3.12/site-packages (from -r Web-Ads-Accessibility/src/requirements.txt (line 2)) (4.30.0)\n",
      "Requirement already satisfied: pandas in ./miniconda/lib/python3.12/site-packages (from -r Web-Ads-Accessibility/src/requirements.txt (line 3)) (2.2.3)\n",
      "Requirement already satisfied: numpy in ./miniconda/lib/python3.12/site-packages (from -r Web-Ads-Accessibility/src/requirements.txt (line 4)) (2.2.4)\n",
      "Requirement already satisfied: matplotlib in ./miniconda/lib/python3.12/site-packages (from -r Web-Ads-Accessibility/src/requirements.txt (line 5)) (3.10.1)\n",
      "Requirement already satisfied: tldextract in ./miniconda/lib/python3.12/site-packages (from -r Web-Ads-Accessibility/src/requirements.txt (line 6)) (5.1.3)\n",
      "Requirement already satisfied: openpyxl in ./miniconda/lib/python3.12/site-packages (from -r Web-Ads-Accessibility/src/requirements.txt (line 7)) (3.1.5)\n",
      "Requirement already satisfied: webdriver-manager in ./miniconda/lib/python3.12/site-packages (from -r Web-Ads-Accessibility/src/requirements.txt (line 8)) (4.0.2)\n",
      "Requirement already satisfied: urllib3<3,>=1.26 in ./miniconda/lib/python3.12/site-packages (from urllib3[socks]<3,>=1.26->selenium->-r Web-Ads-Accessibility/src/requirements.txt (line 2)) (2.3.0)\n",
      "Requirement already satisfied: trio~=0.17 in ./miniconda/lib/python3.12/site-packages (from selenium->-r Web-Ads-Accessibility/src/requirements.txt (line 2)) (0.29.0)\n",
      "Requirement already satisfied: trio-websocket~=0.9 in ./miniconda/lib/python3.12/site-packages (from selenium->-r Web-Ads-Accessibility/src/requirements.txt (line 2)) (0.12.2)\n",
      "Requirement already satisfied: certifi>=2021.10.8 in ./miniconda/lib/python3.12/site-packages (from selenium->-r Web-Ads-Accessibility/src/requirements.txt (line 2)) (2025.1.31)\n",
      "Requirement already satisfied: typing_extensions~=4.9 in ./miniconda/lib/python3.12/site-packages (from selenium->-r Web-Ads-Accessibility/src/requirements.txt (line 2)) (4.12.2)\n",
      "Requirement already satisfied: websocket-client~=1.8 in ./miniconda/lib/python3.12/site-packages (from selenium->-r Web-Ads-Accessibility/src/requirements.txt (line 2)) (1.8.0)\n",
      "Requirement already satisfied: python-dateutil>=2.8.2 in ./miniconda/lib/python3.12/site-packages (from pandas->-r Web-Ads-Accessibility/src/requirements.txt (line 3)) (2.9.0.post0)\n",
      "Requirement already satisfied: pytz>=2020.1 in ./miniconda/lib/python3.12/site-packages (from pandas->-r Web-Ads-Accessibility/src/requirements.txt (line 3)) (2025.2)\n",
      "Requirement already satisfied: tzdata>=2022.7 in ./miniconda/lib/python3.12/site-packages (from pandas->-r Web-Ads-Accessibility/src/requirements.txt (line 3)) (2025.2)\n",
      "Requirement already satisfied: contourpy>=1.0.1 in ./miniconda/lib/python3.12/site-packages (from matplotlib->-r Web-Ads-Accessibility/src/requirements.txt (line 5)) (1.3.1)\n",
      "Requirement already satisfied: cycler>=0.10 in ./miniconda/lib/python3.12/site-packages (from matplotlib->-r Web-Ads-Accessibility/src/requirements.txt (line 5)) (0.12.1)\n",
      "Requirement already satisfied: fonttools>=4.22.0 in ./miniconda/lib/python3.12/site-packages (from matplotlib->-r Web-Ads-Accessibility/src/requirements.txt (line 5)) (4.56.0)\n",
      "Requirement already satisfied: kiwisolver>=1.3.1 in ./miniconda/lib/python3.12/site-packages (from matplotlib->-r Web-Ads-Accessibility/src/requirements.txt (line 5)) (1.4.8)\n",
      "Requirement already satisfied: packaging>=20.0 in ./miniconda/lib/python3.12/site-packages (from matplotlib->-r Web-Ads-Accessibility/src/requirements.txt (line 5)) (24.2)\n",
      "Requirement already satisfied: pillow>=8 in ./miniconda/lib/python3.12/site-packages (from matplotlib->-r Web-Ads-Accessibility/src/requirements.txt (line 5)) (11.1.0)\n",
      "Requirement already satisfied: pyparsing>=2.3.1 in ./miniconda/lib/python3.12/site-packages (from matplotlib->-r Web-Ads-Accessibility/src/requirements.txt (line 5)) (3.2.3)\n",
      "Requirement already satisfied: idna in ./miniconda/lib/python3.12/site-packages (from tldextract->-r Web-Ads-Accessibility/src/requirements.txt (line 6)) (3.7)\n",
      "Requirement already satisfied: requests>=2.1.0 in ./miniconda/lib/python3.12/site-packages (from tldextract->-r Web-Ads-Accessibility/src/requirements.txt (line 6)) (2.32.3)\n",
      "Requirement already satisfied: requests-file>=1.4 in ./miniconda/lib/python3.12/site-packages (from tldextract->-r Web-Ads-Accessibility/src/requirements.txt (line 6)) (2.1.0)\n",
      "Requirement already satisfied: filelock>=3.0.8 in ./miniconda/lib/python3.12/site-packages (from tldextract->-r Web-Ads-Accessibility/src/requirements.txt (line 6)) (3.18.0)\n",
      "Requirement already satisfied: et-xmlfile in ./miniconda/lib/python3.12/site-packages (from openpyxl->-r Web-Ads-Accessibility/src/requirements.txt (line 7)) (2.0.0)\n",
      "Requirement already satisfied: python-dotenv in ./miniconda/lib/python3.12/site-packages (from webdriver-manager->-r Web-Ads-Accessibility/src/requirements.txt (line 8)) (1.1.0)\n",
      "Requirement already satisfied: six>=1.5 in ./miniconda/lib/python3.12/site-packages (from python-dateutil>=2.8.2->pandas->-r Web-Ads-Accessibility/src/requirements.txt (line 3)) (1.17.0)\n",
      "Requirement already satisfied: charset-normalizer<4,>=2 in ./miniconda/lib/python3.12/site-packages (from requests>=2.1.0->tldextract->-r Web-Ads-Accessibility/src/requirements.txt (line 6)) (3.3.2)\n",
      "Requirement already satisfied: attrs>=23.2.0 in ./miniconda/lib/python3.12/site-packages (from trio~=0.17->selenium->-r Web-Ads-Accessibility/src/requirements.txt (line 2)) (25.3.0)\n",
      "Requirement already satisfied: sortedcontainers in ./miniconda/lib/python3.12/site-packages (from trio~=0.17->selenium->-r Web-Ads-Accessibility/src/requirements.txt (line 2)) (2.4.0)\n",
      "Requirement already satisfied: outcome in ./miniconda/lib/python3.12/site-packages (from trio~=0.17->selenium->-r Web-Ads-Accessibility/src/requirements.txt (line 2)) (1.3.0.post0)\n",
      "Requirement already satisfied: sniffio>=1.3.0 in ./miniconda/lib/python3.12/site-packages (from trio~=0.17->selenium->-r Web-Ads-Accessibility/src/requirements.txt (line 2)) (1.3.1)\n",
      "Requirement already satisfied: wsproto>=0.14 in ./miniconda/lib/python3.12/site-packages (from trio-websocket~=0.9->selenium->-r Web-Ads-Accessibility/src/requirements.txt (line 2)) (1.2.0)\n",
      "Requirement already satisfied: pysocks!=1.5.7,<2.0,>=1.5.6 in ./miniconda/lib/python3.12/site-packages (from urllib3[socks]<3,>=1.26->selenium->-r Web-Ads-Accessibility/src/requirements.txt (line 2)) (1.7.1)\n",
      "Requirement already satisfied: h11<1,>=0.9.0 in ./miniconda/lib/python3.12/site-packages (from wsproto>=0.14->trio-websocket~=0.9->selenium->-r Web-Ads-Accessibility/src/requirements.txt (line 2)) (0.14.0)\n",
      "Requirement already satisfied: gdown in ./miniconda/lib/python3.12/site-packages (5.2.0)\n",
      "Requirement already satisfied: beautifulsoup4 in ./miniconda/lib/python3.12/site-packages (from gdown) (4.13.3)\n",
      "Requirement already satisfied: filelock in ./miniconda/lib/python3.12/site-packages (from gdown) (3.18.0)\n",
      "Requirement already satisfied: requests[socks] in ./miniconda/lib/python3.12/site-packages (from gdown) (2.32.3)\n",
      "Requirement already satisfied: tqdm in ./miniconda/lib/python3.12/site-packages (from gdown) (4.67.1)\n",
      "Requirement already satisfied: soupsieve>1.2 in ./miniconda/lib/python3.12/site-packages (from beautifulsoup4->gdown) (2.6)\n",
      "Requirement already satisfied: typing-extensions>=4.0.0 in ./miniconda/lib/python3.12/site-packages (from beautifulsoup4->gdown) (4.12.2)\n",
      "Requirement already satisfied: charset-normalizer<4,>=2 in ./miniconda/lib/python3.12/site-packages (from requests[socks]->gdown) (3.3.2)\n",
      "Requirement already satisfied: idna<4,>=2.5 in ./miniconda/lib/python3.12/site-packages (from requests[socks]->gdown) (3.7)\n",
      "Requirement already satisfied: urllib3<3,>=1.21.1 in ./miniconda/lib/python3.12/site-packages (from requests[socks]->gdown) (2.3.0)\n",
      "Requirement already satisfied: certifi>=2017.4.17 in ./miniconda/lib/python3.12/site-packages (from requests[socks]->gdown) (2025.1.31)\n",
      "Requirement already satisfied: PySocks!=1.5.7,>=1.5.6 in ./miniconda/lib/python3.12/site-packages (from requests[socks]->gdown) (1.7.1)\n",
      "Requirement already satisfied: selenium in ./miniconda/lib/python3.12/site-packages (4.30.0)\n",
      "Requirement already satisfied: urllib3<3,>=1.26 in ./miniconda/lib/python3.12/site-packages (from urllib3[socks]<3,>=1.26->selenium) (2.3.0)\n",
      "Requirement already satisfied: trio~=0.17 in ./miniconda/lib/python3.12/site-packages (from selenium) (0.29.0)\n",
      "Requirement already satisfied: trio-websocket~=0.9 in ./miniconda/lib/python3.12/site-packages (from selenium) (0.12.2)\n",
      "Requirement already satisfied: certifi>=2021.10.8 in ./miniconda/lib/python3.12/site-packages (from selenium) (2025.1.31)\n",
      "Requirement already satisfied: typing_extensions~=4.9 in ./miniconda/lib/python3.12/site-packages (from selenium) (4.12.2)\n",
      "Requirement already satisfied: websocket-client~=1.8 in ./miniconda/lib/python3.12/site-packages (from selenium) (1.8.0)\n",
      "Requirement already satisfied: attrs>=23.2.0 in ./miniconda/lib/python3.12/site-packages (from trio~=0.17->selenium) (25.3.0)\n",
      "Requirement already satisfied: sortedcontainers in ./miniconda/lib/python3.12/site-packages (from trio~=0.17->selenium) (2.4.0)\n",
      "Requirement already satisfied: idna in ./miniconda/lib/python3.12/site-packages (from trio~=0.17->selenium) (3.7)\n",
      "Requirement already satisfied: outcome in ./miniconda/lib/python3.12/site-packages (from trio~=0.17->selenium) (1.3.0.post0)\n",
      "Requirement already satisfied: sniffio>=1.3.0 in ./miniconda/lib/python3.12/site-packages (from trio~=0.17->selenium) (1.3.1)\n",
      "Requirement already satisfied: wsproto>=0.14 in ./miniconda/lib/python3.12/site-packages (from trio-websocket~=0.9->selenium) (1.2.0)\n",
      "Requirement already satisfied: pysocks!=1.5.7,<2.0,>=1.5.6 in ./miniconda/lib/python3.12/site-packages (from urllib3[socks]<3,>=1.26->selenium) (1.7.1)\n",
      "Requirement already satisfied: h11<1,>=0.9.0 in ./miniconda/lib/python3.12/site-packages (from wsproto>=0.14->trio-websocket~=0.9->selenium) (0.14.0)\n",
      "Requirement already satisfied: selenium-wire in ./miniconda/lib/python3.12/site-packages (5.1.0)\n",
      "Requirement already satisfied: blinker>=1.4 in ./miniconda/lib/python3.12/site-packages (from selenium-wire) (1.9.0)\n",
      "Requirement already satisfied: brotli>=1.0.9 in ./miniconda/lib/python3.12/site-packages (from selenium-wire) (1.0.9)\n",
      "Requirement already satisfied: certifi>=2019.9.11 in ./miniconda/lib/python3.12/site-packages (from selenium-wire) (2025.1.31)\n",
      "Requirement already satisfied: kaitaistruct>=0.7 in ./miniconda/lib/python3.12/site-packages (from selenium-wire) (0.10)\n",
      "Requirement already satisfied: pyasn1>=0.3.1 in ./miniconda/lib/python3.12/site-packages (from selenium-wire) (0.6.1)\n",
      "Requirement already satisfied: pyOpenSSL>=22.0.0 in ./miniconda/lib/python3.12/site-packages (from selenium-wire) (25.0.0)\n",
      "Requirement already satisfied: pyparsing>=2.4.2 in ./miniconda/lib/python3.12/site-packages (from selenium-wire) (3.2.3)\n",
      "Requirement already satisfied: pysocks>=1.7.1 in ./miniconda/lib/python3.12/site-packages (from selenium-wire) (1.7.1)\n",
      "Requirement already satisfied: selenium>=4.0.0 in ./miniconda/lib/python3.12/site-packages (from selenium-wire) (4.30.0)\n",
      "Requirement already satisfied: wsproto>=0.14 in ./miniconda/lib/python3.12/site-packages (from selenium-wire) (1.2.0)\n",
      "Requirement already satisfied: zstandard>=0.14.1 in ./miniconda/lib/python3.12/site-packages (from selenium-wire) (0.23.0)\n",
      "Requirement already satisfied: h2>=4.0 in ./miniconda/lib/python3.12/site-packages (from selenium-wire) (4.2.0)\n",
      "Requirement already satisfied: hyperframe>=6.0 in ./miniconda/lib/python3.12/site-packages (from selenium-wire) (6.1.0)\n",
      "Requirement already satisfied: hpack<5,>=4.1 in ./miniconda/lib/python3.12/site-packages (from h2>=4.0->selenium-wire) (4.1.0)\n",
      "Requirement already satisfied: cryptography<45,>=41.0.5 in ./miniconda/lib/python3.12/site-packages (from pyOpenSSL>=22.0.0->selenium-wire) (43.0.3)\n",
      "Requirement already satisfied: typing-extensions>=4.9 in ./miniconda/lib/python3.12/site-packages (from pyOpenSSL>=22.0.0->selenium-wire) (4.12.2)\n",
      "Requirement already satisfied: urllib3<3,>=1.26 in ./miniconda/lib/python3.12/site-packages (from urllib3[socks]<3,>=1.26->selenium>=4.0.0->selenium-wire) (2.3.0)\n",
      "Requirement already satisfied: trio~=0.17 in ./miniconda/lib/python3.12/site-packages (from selenium>=4.0.0->selenium-wire) (0.29.0)\n",
      "Requirement already satisfied: trio-websocket~=0.9 in ./miniconda/lib/python3.12/site-packages (from selenium>=4.0.0->selenium-wire) (0.12.2)\n",
      "Requirement already satisfied: websocket-client~=1.8 in ./miniconda/lib/python3.12/site-packages (from selenium>=4.0.0->selenium-wire) (1.8.0)\n",
      "Requirement already satisfied: h11<1,>=0.9.0 in ./miniconda/lib/python3.12/site-packages (from wsproto>=0.14->selenium-wire) (0.14.0)\n",
      "Requirement already satisfied: cffi>=1.12 in ./miniconda/lib/python3.12/site-packages (from cryptography<45,>=41.0.5->pyOpenSSL>=22.0.0->selenium-wire) (1.17.1)\n",
      "Requirement already satisfied: attrs>=23.2.0 in ./miniconda/lib/python3.12/site-packages (from trio~=0.17->selenium>=4.0.0->selenium-wire) (25.3.0)\n",
      "Requirement already satisfied: sortedcontainers in ./miniconda/lib/python3.12/site-packages (from trio~=0.17->selenium>=4.0.0->selenium-wire) (2.4.0)\n",
      "Requirement already satisfied: idna in ./miniconda/lib/python3.12/site-packages (from trio~=0.17->selenium>=4.0.0->selenium-wire) (3.7)\n",
      "Requirement already satisfied: outcome in ./miniconda/lib/python3.12/site-packages (from trio~=0.17->selenium>=4.0.0->selenium-wire) (1.3.0.post0)\n",
      "Requirement already satisfied: sniffio>=1.3.0 in ./miniconda/lib/python3.12/site-packages (from trio~=0.17->selenium>=4.0.0->selenium-wire) (1.3.1)\n",
      "Requirement already satisfied: pycparser in ./miniconda/lib/python3.12/site-packages (from cffi>=1.12->cryptography<45,>=41.0.5->pyOpenSSL>=22.0.0->selenium-wire) (2.21)\n",
      "Requirement already satisfied: pandas in ./miniconda/lib/python3.12/site-packages (2.2.3)\n",
      "Requirement already satisfied: numpy>=1.26.0 in ./miniconda/lib/python3.12/site-packages (from pandas) (2.2.4)\n",
      "Requirement already satisfied: python-dateutil>=2.8.2 in ./miniconda/lib/python3.12/site-packages (from pandas) (2.9.0.post0)\n",
      "Requirement already satisfied: pytz>=2020.1 in ./miniconda/lib/python3.12/site-packages (from pandas) (2025.2)\n",
      "Requirement already satisfied: tzdata>=2022.7 in ./miniconda/lib/python3.12/site-packages (from pandas) (2025.2)\n",
      "Requirement already satisfied: six>=1.5 in ./miniconda/lib/python3.12/site-packages (from python-dateutil>=2.8.2->pandas) (1.17.0)\n"
     ]
    },
    {
     "name": "stderr",
     "output_type": "stream",
     "text": [
      "Traceback (most recent call last):\n",
      "  File \"/home/cc/Web-Ads-Accessibility/src/sele.py\", line 204, in <module>\n",
      "    crawl_ibm_extension(website, adblock=False)\n",
      "  File \"/home/cc/Web-Ads-Accessibility/src/sele.py\", line 94, in crawl_ibm_extension\n",
      "    driver = webdriver.Chrome(service=service, options=chrome_options)\n",
      "             ^^^^^^^^^^^^^^^^^^^^^^^^^^^^^^^^^^^^^^^^^^^^^^^^^^^^^^^^^\n",
      "  File \"/home/cc/miniconda/lib/python3.12/site-packages/selenium/webdriver/chrome/webdriver.py\", line 45, in __init__\n",
      "    super().__init__(\n",
      "  File \"/home/cc/miniconda/lib/python3.12/site-packages/selenium/webdriver/chromium/webdriver.py\", line 66, in __init__\n",
      "    super().__init__(command_executor=executor, options=options)\n",
      "  File \"/home/cc/miniconda/lib/python3.12/site-packages/selenium/webdriver/remote/webdriver.py\", line 250, in __init__\n",
      "    self.start_session(capabilities)\n",
      "  File \"/home/cc/miniconda/lib/python3.12/site-packages/selenium/webdriver/remote/webdriver.py\", line 342, in start_session\n",
      "    response = self.execute(Command.NEW_SESSION, caps)[\"value\"]\n",
      "               ^^^^^^^^^^^^^^^^^^^^^^^^^^^^^^^^^^^^^^^\n",
      "  File \"/home/cc/miniconda/lib/python3.12/site-packages/selenium/webdriver/remote/webdriver.py\", line 429, in execute\n",
      "    self.error_handler.check_response(response)\n",
      "  File \"/home/cc/miniconda/lib/python3.12/site-packages/selenium/webdriver/remote/errorhandler.py\", line 196, in check_response\n",
      "    raise exception_class(value)\n",
      "selenium.common.exceptions.WebDriverException: Message: request content-length too big or unknown.\n",
      "\n"
     ]
    },
    {
     "name": "stdout",
     "output_type": "stream",
     "text": [
      "Crawling alaskanewssource.com with ads\n",
      "alaskanewssource.com crashed\n",
      "Error details:\n"
     ]
    },
    {
     "name": "stderr",
     "output_type": "stream",
     "text": [
      "Traceback (most recent call last):\n",
      "  File \"/home/cc/Web-Ads-Accessibility/src/sele_adblock.py\", line 126, in <module>\n",
      "    crawl_ibm_extension(website, adblock=True)\n",
      "  File \"/home/cc/Web-Ads-Accessibility/src/sele_adblock.py\", line 52, in crawl_ibm_extension\n",
      "    driver = webdriver.Chrome(service=service, options=chrome_options)\n",
      "             ^^^^^^^^^^^^^^^^^^^^^^^^^^^^^^^^^^^^^^^^^^^^^^^^^^^^^^^^^\n",
      "  File \"/home/cc/miniconda/lib/python3.12/site-packages/selenium/webdriver/chrome/webdriver.py\", line 45, in __init__\n",
      "    super().__init__(\n",
      "  File \"/home/cc/miniconda/lib/python3.12/site-packages/selenium/webdriver/chromium/webdriver.py\", line 66, in __init__\n",
      "    super().__init__(command_executor=executor, options=options)\n",
      "  File \"/home/cc/miniconda/lib/python3.12/site-packages/selenium/webdriver/remote/webdriver.py\", line 250, in __init__\n",
      "    self.start_session(capabilities)\n",
      "  File \"/home/cc/miniconda/lib/python3.12/site-packages/selenium/webdriver/remote/webdriver.py\", line 342, in start_session\n",
      "    response = self.execute(Command.NEW_SESSION, caps)[\"value\"]\n",
      "               ^^^^^^^^^^^^^^^^^^^^^^^^^^^^^^^^^^^^^^^\n",
      "  File \"/home/cc/miniconda/lib/python3.12/site-packages/selenium/webdriver/remote/webdriver.py\", line 429, in execute\n",
      "    self.error_handler.check_response(response)\n",
      "  File \"/home/cc/miniconda/lib/python3.12/site-packages/selenium/webdriver/remote/errorhandler.py\", line 196, in check_response\n",
      "    raise exception_class(value)\n",
      "selenium.common.exceptions.WebDriverException: Message: request content-length too big or unknown.\n",
      "\n"
     ]
    },
    {
     "name": "stdout",
     "output_type": "stream",
     "text": [
      "Crawling alaskanewssource.com without ads\n",
      "alaskanewssource.com crashed\n",
      "Error details:\n",
      "alaskanewssource.com\n",
      "Done!!\n",
      "----------------------Table 2--------------------\n"
     ]
    },
    {
     "name": "stderr",
     "output_type": "stream",
     "text": [
      "Traceback (most recent call last):\n",
      "  File \"/home/cc/Web-Ads-Accessibility/src/reproducible/table2.py\", line 7, in <module>\n",
      "    df = pd.read_excel(\"differences_group_by.xlsx\")\n",
      "         ^^^^^^^^^^^^^^^^^^^^^^^^^^^^^^^^^^^^^^^^^^\n",
      "  File \"/home/cc/miniconda/lib/python3.12/site-packages/pandas/io/excel/_base.py\", line 495, in read_excel\n",
      "    io = ExcelFile(\n",
      "         ^^^^^^^^^^\n",
      "  File \"/home/cc/miniconda/lib/python3.12/site-packages/pandas/io/excel/_base.py\", line 1550, in __init__\n",
      "    ext = inspect_excel_format(\n",
      "          ^^^^^^^^^^^^^^^^^^^^^\n",
      "  File \"/home/cc/miniconda/lib/python3.12/site-packages/pandas/io/excel/_base.py\", line 1402, in inspect_excel_format\n",
      "    with get_handle(\n",
      "         ^^^^^^^^^^^\n",
      "  File \"/home/cc/miniconda/lib/python3.12/site-packages/pandas/io/common.py\", line 882, in get_handle\n",
      "    handle = open(handle, ioargs.mode)\n",
      "             ^^^^^^^^^^^^^^^^^^^^^^^^^\n",
      "FileNotFoundError: [Errno 2] No such file or directory: 'differences_group_by.xlsx'\n"
     ]
    },
    {
     "name": "stdout",
     "output_type": "stream",
     "text": [
      "----------------------Table 3--------------------\n",
      "Empty DataFrame\n",
      "Columns: [Issue, File count]\n",
      "Index: []\n",
      "----------------------Table 4--------------------\n",
      "----------------------Figure 4--------------------\n",
      "----------------------Figure 5--------------------\n",
      "----------------------Figure 8a--------------------\n"
     ]
    },
    {
     "name": "stderr",
     "output_type": "stream",
     "text": [
      "Traceback (most recent call last):\n",
      "  File \"/home/cc/Web-Ads-Accessibility/src/reproducible/fig8a.py\", line 10, in <module>\n",
      "    normal_scores = pd.read_csv('normal_8a.csv', header=None).squeeze()\n",
      "                    ^^^^^^^^^^^^^^^^^^^^^^^^^^^^^^^^^^^^^^^^^\n",
      "  File \"/home/cc/miniconda/lib/python3.12/site-packages/pandas/io/parsers/readers.py\", line 1026, in read_csv\n",
      "    return _read(filepath_or_buffer, kwds)\n",
      "           ^^^^^^^^^^^^^^^^^^^^^^^^^^^^^^^\n",
      "  File \"/home/cc/miniconda/lib/python3.12/site-packages/pandas/io/parsers/readers.py\", line 620, in _read\n",
      "    parser = TextFileReader(filepath_or_buffer, **kwds)\n",
      "             ^^^^^^^^^^^^^^^^^^^^^^^^^^^^^^^^^^^^^^^^^^\n",
      "  File \"/home/cc/miniconda/lib/python3.12/site-packages/pandas/io/parsers/readers.py\", line 1620, in __init__\n",
      "    self._engine = self._make_engine(f, self.engine)\n",
      "                   ^^^^^^^^^^^^^^^^^^^^^^^^^^^^^^^^^\n",
      "  File \"/home/cc/miniconda/lib/python3.12/site-packages/pandas/io/parsers/readers.py\", line 1880, in _make_engine\n",
      "    self.handles = get_handle(\n",
      "                   ^^^^^^^^^^^\n",
      "  File \"/home/cc/miniconda/lib/python3.12/site-packages/pandas/io/common.py\", line 873, in get_handle\n",
      "    handle = open(\n",
      "             ^^^^^\n",
      "FileNotFoundError: [Errno 2] No such file or directory: 'normal_8a.csv'\n",
      "Traceback (most recent call last):\n",
      "  File \"/home/cc/Web-Ads-Accessibility/src/reproducible/fig8b.py\", line 10, in <module>\n"
     ]
    },
    {
     "name": "stdout",
     "output_type": "stream",
     "text": [
      "----------------------Figure 8b--------------------\n"
     ]
    },
    {
     "name": "stderr",
     "output_type": "stream",
     "text": [
      "    normal_scores = pd.read_csv('normal_8b.csv', header=None).squeeze()\n",
      "                    ^^^^^^^^^^^^^^^^^^^^^^^^^^^^^^^^^^^^^^^^^\n",
      "  File \"/home/cc/miniconda/lib/python3.12/site-packages/pandas/io/parsers/readers.py\", line 1026, in read_csv\n",
      "    return _read(filepath_or_buffer, kwds)\n",
      "           ^^^^^^^^^^^^^^^^^^^^^^^^^^^^^^^\n",
      "  File \"/home/cc/miniconda/lib/python3.12/site-packages/pandas/io/parsers/readers.py\", line 620, in _read\n",
      "    parser = TextFileReader(filepath_or_buffer, **kwds)\n",
      "             ^^^^^^^^^^^^^^^^^^^^^^^^^^^^^^^^^^^^^^^^^^\n",
      "  File \"/home/cc/miniconda/lib/python3.12/site-packages/pandas/io/parsers/readers.py\", line 1620, in __init__\n",
      "    self._engine = self._make_engine(f, self.engine)\n",
      "                   ^^^^^^^^^^^^^^^^^^^^^^^^^^^^^^^^^\n",
      "  File \"/home/cc/miniconda/lib/python3.12/site-packages/pandas/io/parsers/readers.py\", line 1880, in _make_engine\n",
      "    self.handles = get_handle(\n",
      "                   ^^^^^^^^^^^\n",
      "  File \"/home/cc/miniconda/lib/python3.12/site-packages/pandas/io/common.py\", line 873, in get_handle\n",
      "    handle = open(\n",
      "             ^^^^^\n",
      "FileNotFoundError: [Errno 2] No such file or directory: 'normal_8b.csv'\n"
     ]
    },
    {
     "name": "stdout",
     "output_type": "stream",
     "text": [
      "----------------------Figure 8c--------------------\n"
     ]
    },
    {
     "name": "stderr",
     "output_type": "stream",
     "text": [
      "Traceback (most recent call last):\n",
      "  File \"/home/cc/Web-Ads-Accessibility/src/reproducible/fig8c.py\", line 10, in <module>\n",
      "    normal_scores = pd.read_csv('normal_8c.csv', header=None).squeeze()\n",
      "                    ^^^^^^^^^^^^^^^^^^^^^^^^^^^^^^^^^^^^^^^^^\n",
      "  File \"/home/cc/miniconda/lib/python3.12/site-packages/pandas/io/parsers/readers.py\", line 1026, in read_csv\n",
      "    return _read(filepath_or_buffer, kwds)\n",
      "           ^^^^^^^^^^^^^^^^^^^^^^^^^^^^^^^\n",
      "  File \"/home/cc/miniconda/lib/python3.12/site-packages/pandas/io/parsers/readers.py\", line 620, in _read\n",
      "    parser = TextFileReader(filepath_or_buffer, **kwds)\n",
      "             ^^^^^^^^^^^^^^^^^^^^^^^^^^^^^^^^^^^^^^^^^^\n",
      "  File \"/home/cc/miniconda/lib/python3.12/site-packages/pandas/io/parsers/readers.py\", line 1620, in __init__\n",
      "    self._engine = self._make_engine(f, self.engine)\n",
      "                   ^^^^^^^^^^^^^^^^^^^^^^^^^^^^^^^^^\n",
      "  File \"/home/cc/miniconda/lib/python3.12/site-packages/pandas/io/parsers/readers.py\", line 1880, in _make_engine\n",
      "    self.handles = get_handle(\n",
      "                   ^^^^^^^^^^^\n",
      "  File \"/home/cc/miniconda/lib/python3.12/site-packages/pandas/io/common.py\", line 873, in get_handle\n",
      "    handle = open(\n",
      "             ^^^^^\n",
      "FileNotFoundError: [Errno 2] No such file or directory: 'normal_8c.csv'\n"
     ]
    },
    {
     "ename": "UnexpectedExit",
     "evalue": "Encountered a bad command exit code!\n\nCommand: 'bash Web-Ads-Accessibility/reproduce.sh'\n\nExit code: 1\n\nStdout: already printed\n\nStderr: already printed\n\n",
     "output_type": "error",
     "traceback": [
      "\u001b[0;31m---------------------------------------------------------------------------\u001b[0m",
      "\u001b[0;31mUnexpectedExit\u001b[0m                            Traceback (most recent call last)",
      "\u001b[0;32m/tmp/ipykernel_108/1643889195.py\u001b[0m in \u001b[0;36m<cell line: 2>\u001b[0;34m()\u001b[0m\n\u001b[1;32m      1\u001b[0m \u001b[0mmy_server\u001b[0m\u001b[0;34m.\u001b[0m\u001b[0mexecute\u001b[0m\u001b[0;34m(\u001b[0m\u001b[0;34m\"chmod +x Web-Ads-Accessibility/reproduce.sh\"\u001b[0m\u001b[0;34m)\u001b[0m\u001b[0;34m\u001b[0m\u001b[0;34m\u001b[0m\u001b[0m\n\u001b[0;32m----> 2\u001b[0;31m \u001b[0mmy_server\u001b[0m\u001b[0;34m.\u001b[0m\u001b[0mexecute\u001b[0m\u001b[0;34m(\u001b[0m\u001b[0;34m\"bash Web-Ads-Accessibility/reproduce.sh\"\u001b[0m\u001b[0;34m)\u001b[0m\u001b[0;34m\u001b[0m\u001b[0;34m\u001b[0m\u001b[0m\n\u001b[0m",
      "\u001b[0;32m/opt/conda/lib/python3.10/site-packages/chi/server.py\u001b[0m in \u001b[0;36mexecute\u001b[0;34m(self, command, **kwargs)\u001b[0m\n\u001b[1;32m    569\u001b[0m         \"\"\"\n\u001b[1;32m    570\u001b[0m         \u001b[0;32mwith\u001b[0m \u001b[0mself\u001b[0m\u001b[0;34m.\u001b[0m\u001b[0mssh_connection\u001b[0m\u001b[0;34m(\u001b[0m\u001b[0;34m**\u001b[0m\u001b[0mkwargs\u001b[0m\u001b[0;34m)\u001b[0m \u001b[0;32mas\u001b[0m \u001b[0mconn\u001b[0m\u001b[0;34m:\u001b[0m\u001b[0;34m\u001b[0m\u001b[0;34m\u001b[0m\u001b[0m\n\u001b[0;32m--> 571\u001b[0;31m             \u001b[0;32mreturn\u001b[0m \u001b[0mconn\u001b[0m\u001b[0;34m.\u001b[0m\u001b[0mrun\u001b[0m\u001b[0;34m(\u001b[0m\u001b[0mcommand\u001b[0m\u001b[0;34m)\u001b[0m\u001b[0;34m\u001b[0m\u001b[0;34m\u001b[0m\u001b[0m\n\u001b[0m\u001b[1;32m    572\u001b[0m \u001b[0;34m\u001b[0m\u001b[0m\n\u001b[1;32m    573\u001b[0m     \u001b[0;32mdef\u001b[0m \u001b[0mget_metadata\u001b[0m\u001b[0;34m(\u001b[0m\u001b[0mself\u001b[0m\u001b[0;34m)\u001b[0m\u001b[0;34m:\u001b[0m\u001b[0;34m\u001b[0m\u001b[0;34m\u001b[0m\u001b[0m\n",
      "\u001b[0;32m/opt/conda/lib/python3.10/site-packages/decorator.py\u001b[0m in \u001b[0;36mfun\u001b[0;34m(*args, **kw)\u001b[0m\n\u001b[1;32m    230\u001b[0m             \u001b[0;32mif\u001b[0m \u001b[0;32mnot\u001b[0m \u001b[0mkwsyntax\u001b[0m\u001b[0;34m:\u001b[0m\u001b[0;34m\u001b[0m\u001b[0;34m\u001b[0m\u001b[0m\n\u001b[1;32m    231\u001b[0m                 \u001b[0margs\u001b[0m\u001b[0;34m,\u001b[0m \u001b[0mkw\u001b[0m \u001b[0;34m=\u001b[0m \u001b[0mfix\u001b[0m\u001b[0;34m(\u001b[0m\u001b[0margs\u001b[0m\u001b[0;34m,\u001b[0m \u001b[0mkw\u001b[0m\u001b[0;34m,\u001b[0m \u001b[0msig\u001b[0m\u001b[0;34m)\u001b[0m\u001b[0;34m\u001b[0m\u001b[0;34m\u001b[0m\u001b[0m\n\u001b[0;32m--> 232\u001b[0;31m             \u001b[0;32mreturn\u001b[0m \u001b[0mcaller\u001b[0m\u001b[0;34m(\u001b[0m\u001b[0mfunc\u001b[0m\u001b[0;34m,\u001b[0m \u001b[0;34m*\u001b[0m\u001b[0;34m(\u001b[0m\u001b[0mextras\u001b[0m \u001b[0;34m+\u001b[0m \u001b[0margs\u001b[0m\u001b[0;34m)\u001b[0m\u001b[0;34m,\u001b[0m \u001b[0;34m**\u001b[0m\u001b[0mkw\u001b[0m\u001b[0;34m)\u001b[0m\u001b[0;34m\u001b[0m\u001b[0;34m\u001b[0m\u001b[0m\n\u001b[0m\u001b[1;32m    233\u001b[0m     \u001b[0mfun\u001b[0m\u001b[0;34m.\u001b[0m\u001b[0m__name__\u001b[0m \u001b[0;34m=\u001b[0m \u001b[0mfunc\u001b[0m\u001b[0;34m.\u001b[0m\u001b[0m__name__\u001b[0m\u001b[0;34m\u001b[0m\u001b[0;34m\u001b[0m\u001b[0m\n\u001b[1;32m    234\u001b[0m     \u001b[0mfun\u001b[0m\u001b[0;34m.\u001b[0m\u001b[0m__doc__\u001b[0m \u001b[0;34m=\u001b[0m \u001b[0mfunc\u001b[0m\u001b[0;34m.\u001b[0m\u001b[0m__doc__\u001b[0m\u001b[0;34m\u001b[0m\u001b[0;34m\u001b[0m\u001b[0m\n",
      "\u001b[0;32m/opt/conda/lib/python3.10/site-packages/fabric/connection.py\u001b[0m in \u001b[0;36mopens\u001b[0;34m(method, self, *args, **kwargs)\u001b[0m\n\u001b[1;32m     21\u001b[0m \u001b[0;32mdef\u001b[0m \u001b[0mopens\u001b[0m\u001b[0;34m(\u001b[0m\u001b[0mmethod\u001b[0m\u001b[0;34m,\u001b[0m \u001b[0mself\u001b[0m\u001b[0;34m,\u001b[0m \u001b[0;34m*\u001b[0m\u001b[0margs\u001b[0m\u001b[0;34m,\u001b[0m \u001b[0;34m**\u001b[0m\u001b[0mkwargs\u001b[0m\u001b[0;34m)\u001b[0m\u001b[0;34m:\u001b[0m\u001b[0;34m\u001b[0m\u001b[0;34m\u001b[0m\u001b[0m\n\u001b[1;32m     22\u001b[0m     \u001b[0mself\u001b[0m\u001b[0;34m.\u001b[0m\u001b[0mopen\u001b[0m\u001b[0;34m(\u001b[0m\u001b[0;34m)\u001b[0m\u001b[0;34m\u001b[0m\u001b[0;34m\u001b[0m\u001b[0m\n\u001b[0;32m---> 23\u001b[0;31m     \u001b[0;32mreturn\u001b[0m \u001b[0mmethod\u001b[0m\u001b[0;34m(\u001b[0m\u001b[0mself\u001b[0m\u001b[0;34m,\u001b[0m \u001b[0;34m*\u001b[0m\u001b[0margs\u001b[0m\u001b[0;34m,\u001b[0m \u001b[0;34m**\u001b[0m\u001b[0mkwargs\u001b[0m\u001b[0;34m)\u001b[0m\u001b[0;34m\u001b[0m\u001b[0;34m\u001b[0m\u001b[0m\n\u001b[0m\u001b[1;32m     24\u001b[0m \u001b[0;34m\u001b[0m\u001b[0m\n\u001b[1;32m     25\u001b[0m \u001b[0;34m\u001b[0m\u001b[0m\n",
      "\u001b[0;32m/opt/conda/lib/python3.10/site-packages/fabric/connection.py\u001b[0m in \u001b[0;36mrun\u001b[0;34m(self, command, **kwargs)\u001b[0m\n\u001b[1;32m    761\u001b[0m         \u001b[0;34m.\u001b[0m\u001b[0;34m.\u001b[0m \u001b[0mversionadded\u001b[0m\u001b[0;34m:\u001b[0m\u001b[0;34m:\u001b[0m \u001b[0;36m2.0\u001b[0m\u001b[0;34m\u001b[0m\u001b[0;34m\u001b[0m\u001b[0m\n\u001b[1;32m    762\u001b[0m         \"\"\"\n\u001b[0;32m--> 763\u001b[0;31m         \u001b[0;32mreturn\u001b[0m \u001b[0mself\u001b[0m\u001b[0;34m.\u001b[0m\u001b[0m_run\u001b[0m\u001b[0;34m(\u001b[0m\u001b[0mself\u001b[0m\u001b[0;34m.\u001b[0m\u001b[0m_remote_runner\u001b[0m\u001b[0;34m(\u001b[0m\u001b[0;34m)\u001b[0m\u001b[0;34m,\u001b[0m \u001b[0mcommand\u001b[0m\u001b[0;34m,\u001b[0m \u001b[0;34m**\u001b[0m\u001b[0mkwargs\u001b[0m\u001b[0;34m)\u001b[0m\u001b[0;34m\u001b[0m\u001b[0;34m\u001b[0m\u001b[0m\n\u001b[0m\u001b[1;32m    764\u001b[0m \u001b[0;34m\u001b[0m\u001b[0m\n\u001b[1;32m    765\u001b[0m     \u001b[0;34m@\u001b[0m\u001b[0mopens\u001b[0m\u001b[0;34m\u001b[0m\u001b[0;34m\u001b[0m\u001b[0m\n",
      "\u001b[0;32m/opt/conda/lib/python3.10/site-packages/invoke/context.py\u001b[0m in \u001b[0;36m_run\u001b[0;34m(self, runner, command, **kwargs)\u001b[0m\n\u001b[1;32m    111\u001b[0m     ) -> Optional[Result]:\n\u001b[1;32m    112\u001b[0m         \u001b[0mcommand\u001b[0m \u001b[0;34m=\u001b[0m \u001b[0mself\u001b[0m\u001b[0;34m.\u001b[0m\u001b[0m_prefix_commands\u001b[0m\u001b[0;34m(\u001b[0m\u001b[0mcommand\u001b[0m\u001b[0;34m)\u001b[0m\u001b[0;34m\u001b[0m\u001b[0;34m\u001b[0m\u001b[0m\n\u001b[0;32m--> 113\u001b[0;31m         \u001b[0;32mreturn\u001b[0m \u001b[0mrunner\u001b[0m\u001b[0;34m.\u001b[0m\u001b[0mrun\u001b[0m\u001b[0;34m(\u001b[0m\u001b[0mcommand\u001b[0m\u001b[0;34m,\u001b[0m \u001b[0;34m**\u001b[0m\u001b[0mkwargs\u001b[0m\u001b[0;34m)\u001b[0m\u001b[0;34m\u001b[0m\u001b[0;34m\u001b[0m\u001b[0m\n\u001b[0m\u001b[1;32m    114\u001b[0m \u001b[0;34m\u001b[0m\u001b[0m\n\u001b[1;32m    115\u001b[0m     \u001b[0;32mdef\u001b[0m \u001b[0msudo\u001b[0m\u001b[0;34m(\u001b[0m\u001b[0mself\u001b[0m\u001b[0;34m,\u001b[0m \u001b[0mcommand\u001b[0m\u001b[0;34m:\u001b[0m \u001b[0mstr\u001b[0m\u001b[0;34m,\u001b[0m \u001b[0;34m**\u001b[0m\u001b[0mkwargs\u001b[0m\u001b[0;34m:\u001b[0m \u001b[0mAny\u001b[0m\u001b[0;34m)\u001b[0m \u001b[0;34m->\u001b[0m \u001b[0mOptional\u001b[0m\u001b[0;34m[\u001b[0m\u001b[0mResult\u001b[0m\u001b[0;34m]\u001b[0m\u001b[0;34m:\u001b[0m\u001b[0;34m\u001b[0m\u001b[0;34m\u001b[0m\u001b[0m\n",
      "\u001b[0;32m/opt/conda/lib/python3.10/site-packages/fabric/runners.py\u001b[0m in \u001b[0;36mrun\u001b[0;34m(self, command, **kwargs)\u001b[0m\n\u001b[1;32m     81\u001b[0m     \u001b[0;32mdef\u001b[0m \u001b[0mrun\u001b[0m\u001b[0;34m(\u001b[0m\u001b[0mself\u001b[0m\u001b[0;34m,\u001b[0m \u001b[0mcommand\u001b[0m\u001b[0;34m,\u001b[0m \u001b[0;34m**\u001b[0m\u001b[0mkwargs\u001b[0m\u001b[0;34m)\u001b[0m\u001b[0;34m:\u001b[0m\u001b[0;34m\u001b[0m\u001b[0;34m\u001b[0m\u001b[0m\n\u001b[1;32m     82\u001b[0m         \u001b[0mkwargs\u001b[0m\u001b[0;34m.\u001b[0m\u001b[0msetdefault\u001b[0m\u001b[0;34m(\u001b[0m\u001b[0;34m\"replace_env\"\u001b[0m\u001b[0;34m,\u001b[0m \u001b[0;32mTrue\u001b[0m\u001b[0;34m)\u001b[0m\u001b[0;34m\u001b[0m\u001b[0;34m\u001b[0m\u001b[0m\n\u001b[0;32m---> 83\u001b[0;31m         \u001b[0;32mreturn\u001b[0m \u001b[0msuper\u001b[0m\u001b[0;34m(\u001b[0m\u001b[0;34m)\u001b[0m\u001b[0;34m.\u001b[0m\u001b[0mrun\u001b[0m\u001b[0;34m(\u001b[0m\u001b[0mcommand\u001b[0m\u001b[0;34m,\u001b[0m \u001b[0;34m**\u001b[0m\u001b[0mkwargs\u001b[0m\u001b[0;34m)\u001b[0m\u001b[0;34m\u001b[0m\u001b[0;34m\u001b[0m\u001b[0m\n\u001b[0m\u001b[1;32m     84\u001b[0m \u001b[0;34m\u001b[0m\u001b[0m\n\u001b[1;32m     85\u001b[0m     \u001b[0;32mdef\u001b[0m \u001b[0mread_proc_stdout\u001b[0m\u001b[0;34m(\u001b[0m\u001b[0mself\u001b[0m\u001b[0;34m,\u001b[0m \u001b[0mnum_bytes\u001b[0m\u001b[0;34m)\u001b[0m\u001b[0;34m:\u001b[0m\u001b[0;34m\u001b[0m\u001b[0;34m\u001b[0m\u001b[0m\n",
      "\u001b[0;32m/opt/conda/lib/python3.10/site-packages/invoke/runners.py\u001b[0m in \u001b[0;36mrun\u001b[0;34m(self, command, **kwargs)\u001b[0m\n\u001b[1;32m    393\u001b[0m         \"\"\"\n\u001b[1;32m    394\u001b[0m         \u001b[0;32mtry\u001b[0m\u001b[0;34m:\u001b[0m\u001b[0;34m\u001b[0m\u001b[0;34m\u001b[0m\u001b[0m\n\u001b[0;32m--> 395\u001b[0;31m             \u001b[0;32mreturn\u001b[0m \u001b[0mself\u001b[0m\u001b[0;34m.\u001b[0m\u001b[0m_run_body\u001b[0m\u001b[0;34m(\u001b[0m\u001b[0mcommand\u001b[0m\u001b[0;34m,\u001b[0m \u001b[0;34m**\u001b[0m\u001b[0mkwargs\u001b[0m\u001b[0;34m)\u001b[0m\u001b[0;34m\u001b[0m\u001b[0;34m\u001b[0m\u001b[0m\n\u001b[0m\u001b[1;32m    396\u001b[0m         \u001b[0;32mfinally\u001b[0m\u001b[0;34m:\u001b[0m\u001b[0;34m\u001b[0m\u001b[0;34m\u001b[0m\u001b[0m\n\u001b[1;32m    397\u001b[0m             \u001b[0;32mif\u001b[0m \u001b[0;32mnot\u001b[0m \u001b[0;34m(\u001b[0m\u001b[0mself\u001b[0m\u001b[0;34m.\u001b[0m\u001b[0m_asynchronous\u001b[0m \u001b[0;32mor\u001b[0m \u001b[0mself\u001b[0m\u001b[0;34m.\u001b[0m\u001b[0m_disowned\u001b[0m\u001b[0;34m)\u001b[0m\u001b[0;34m:\u001b[0m\u001b[0;34m\u001b[0m\u001b[0;34m\u001b[0m\u001b[0m\n",
      "\u001b[0;32m/opt/conda/lib/python3.10/site-packages/invoke/runners.py\u001b[0m in \u001b[0;36m_run_body\u001b[0;34m(self, command, **kwargs)\u001b[0m\n\u001b[1;32m    449\u001b[0m             \u001b[0mthread\u001b[0m\u001b[0;34m.\u001b[0m\u001b[0mstart\u001b[0m\u001b[0;34m(\u001b[0m\u001b[0;34m)\u001b[0m\u001b[0;34m\u001b[0m\u001b[0;34m\u001b[0m\u001b[0m\n\u001b[1;32m    450\u001b[0m         \u001b[0;31m# Wrap up or promise that we will, depending\u001b[0m\u001b[0;34m\u001b[0m\u001b[0;34m\u001b[0m\u001b[0m\n\u001b[0;32m--> 451\u001b[0;31m         \u001b[0;32mreturn\u001b[0m \u001b[0mself\u001b[0m\u001b[0;34m.\u001b[0m\u001b[0mmake_promise\u001b[0m\u001b[0;34m(\u001b[0m\u001b[0;34m)\u001b[0m \u001b[0;32mif\u001b[0m \u001b[0mself\u001b[0m\u001b[0;34m.\u001b[0m\u001b[0m_asynchronous\u001b[0m \u001b[0;32melse\u001b[0m \u001b[0mself\u001b[0m\u001b[0;34m.\u001b[0m\u001b[0m_finish\u001b[0m\u001b[0;34m(\u001b[0m\u001b[0;34m)\u001b[0m\u001b[0;34m\u001b[0m\u001b[0;34m\u001b[0m\u001b[0m\n\u001b[0m\u001b[1;32m    452\u001b[0m \u001b[0;34m\u001b[0m\u001b[0m\n\u001b[1;32m    453\u001b[0m     \u001b[0;32mdef\u001b[0m \u001b[0mmake_promise\u001b[0m\u001b[0;34m(\u001b[0m\u001b[0mself\u001b[0m\u001b[0;34m)\u001b[0m \u001b[0;34m->\u001b[0m \u001b[0;34m\"Promise\"\u001b[0m\u001b[0;34m:\u001b[0m\u001b[0;34m\u001b[0m\u001b[0;34m\u001b[0m\u001b[0m\n",
      "\u001b[0;32m/opt/conda/lib/python3.10/site-packages/invoke/runners.py\u001b[0m in \u001b[0;36m_finish\u001b[0;34m(self)\u001b[0m\n\u001b[1;32m    516\u001b[0m             \u001b[0;32mraise\u001b[0m \u001b[0mCommandTimedOut\u001b[0m\u001b[0;34m(\u001b[0m\u001b[0mresult\u001b[0m\u001b[0;34m,\u001b[0m \u001b[0mtimeout\u001b[0m\u001b[0;34m=\u001b[0m\u001b[0mtimeout\u001b[0m\u001b[0;34m)\u001b[0m\u001b[0;34m\u001b[0m\u001b[0;34m\u001b[0m\u001b[0m\n\u001b[1;32m    517\u001b[0m         \u001b[0;32mif\u001b[0m \u001b[0;32mnot\u001b[0m \u001b[0;34m(\u001b[0m\u001b[0mresult\u001b[0m \u001b[0;32mor\u001b[0m \u001b[0mself\u001b[0m\u001b[0;34m.\u001b[0m\u001b[0mopts\u001b[0m\u001b[0;34m[\u001b[0m\u001b[0;34m\"warn\"\u001b[0m\u001b[0;34m]\u001b[0m\u001b[0;34m)\u001b[0m\u001b[0;34m:\u001b[0m\u001b[0;34m\u001b[0m\u001b[0;34m\u001b[0m\u001b[0m\n\u001b[0;32m--> 518\u001b[0;31m             \u001b[0;32mraise\u001b[0m \u001b[0mUnexpectedExit\u001b[0m\u001b[0;34m(\u001b[0m\u001b[0mresult\u001b[0m\u001b[0;34m)\u001b[0m\u001b[0;34m\u001b[0m\u001b[0;34m\u001b[0m\u001b[0m\n\u001b[0m\u001b[1;32m    519\u001b[0m         \u001b[0;32mreturn\u001b[0m \u001b[0mresult\u001b[0m\u001b[0;34m\u001b[0m\u001b[0;34m\u001b[0m\u001b[0m\n\u001b[1;32m    520\u001b[0m \u001b[0;34m\u001b[0m\u001b[0m\n",
      "\u001b[0;31mUnexpectedExit\u001b[0m: Encountered a bad command exit code!\n\nCommand: 'bash Web-Ads-Accessibility/reproduce.sh'\n\nExit code: 1\n\nStdout: already printed\n\nStderr: already printed\n\n"
     ]
    }
   ],
   "source": [
    "my_server.execute(\"chmod +x Web-Ads-Accessibility/reproduce.sh\")\n",
    "my_server.execute(\"bash Web-Ads-Accessibility/reproduce.sh\")"
   ]
  },
  {
   "cell_type": "code",
   "execution_count": null,
   "metadata": {},
   "outputs": [],
   "source": []
  }
 ],
 "metadata": {
  "kernelspec": {
   "display_name": "Python 3 (ipykernel)",
   "language": "python",
   "name": "python3"
  },
  "language_info": {
   "codemirror_mode": {
    "name": "ipython",
    "version": 3
   },
   "file_extension": ".py",
   "mimetype": "text/x-python",
   "name": "python",
   "nbconvert_exporter": "python",
   "pygments_lexer": "ipython3",
   "version": "3.10.9"
  }
 },
 "nbformat": 4,
 "nbformat_minor": 4
}
